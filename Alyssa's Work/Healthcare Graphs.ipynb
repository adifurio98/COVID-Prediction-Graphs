{
 "cells": [
  {
   "cell_type": "code",
   "execution_count": 2,
   "id": "cfc81cca",
   "metadata": {},
   "outputs": [],
   "source": [
    "import pandas as pd\n",
    "import numpy as np\n",
    "import matplotlib.pyplot as plt\n",
    "import seaborn as sns"
   ]
  },
  {
   "cell_type": "code",
   "execution_count": 6,
   "id": "f91f1eb0",
   "metadata": {},
   "outputs": [],
   "source": [
    "infection = \"Resources/infections_cleaned.csv\"\n",
    "death = \"Resources/deaths_cleaned.csv\"\n",
    "cia = \"Resources/cia.csv\"\n",
    "infectiond = pd.read_csv(infection)\n",
    "deathd = pd.read_csv(death)\n",
    "ciad = pd.read_csv(cia)\n",
    "infectiondf = pd.DataFrame(infectiond)\n",
    "deathdf = pd.DataFrame(deathd)\n",
    "ciadf = pd.DataFrame(ciad)"
   ]
  },
  {
   "cell_type": "code",
   "execution_count": 7,
   "id": "741a212e",
   "metadata": {},
   "outputs": [
    {
     "data": {
      "text/html": [
       "<div>\n",
       "<style scoped>\n",
       "    .dataframe tbody tr th:only-of-type {\n",
       "        vertical-align: middle;\n",
       "    }\n",
       "\n",
       "    .dataframe tbody tr th {\n",
       "        vertical-align: top;\n",
       "    }\n",
       "\n",
       "    .dataframe thead th {\n",
       "        text-align: right;\n",
       "    }\n",
       "</style>\n",
       "<table border=\"1\" class=\"dataframe\">\n",
       "  <thead>\n",
       "    <tr style=\"text-align: right;\">\n",
       "      <th></th>\n",
       "      <th>country</th>\n",
       "      <th>current_health_expenditure_2019</th>\n",
       "      <th>physician</th>\n",
       "      <th>beds</th>\n",
       "      <th>geography_area_total_sq_km</th>\n",
       "      <th>real_GDP_per _capita_3year_average_2020_2018</th>\n",
       "      <th>GDP_official_exchange_rate_Billion</th>\n",
       "      <th>Population</th>\n",
       "      <th>Real_GDP_purchasing_power_parity_3year_ave</th>\n",
       "    </tr>\n",
       "  </thead>\n",
       "  <tbody>\n",
       "    <tr>\n",
       "      <th>0</th>\n",
       "      <td>Austria</td>\n",
       "      <td>10.4</td>\n",
       "      <td>5.29</td>\n",
       "      <td>7.3</td>\n",
       "      <td>83,871</td>\n",
       "      <td>54,333</td>\n",
       "      <td>$445</td>\n",
       "      <td>8,913,088</td>\n",
       "      <td>$483</td>\n",
       "    </tr>\n",
       "    <tr>\n",
       "      <th>1</th>\n",
       "      <td>Greece</td>\n",
       "      <td>7.8</td>\n",
       "      <td>6.31</td>\n",
       "      <td>4.2</td>\n",
       "      <td>131,957</td>\n",
       "      <td>28,733</td>\n",
       "      <td>$210</td>\n",
       "      <td>10,533,871</td>\n",
       "      <td>$308</td>\n",
       "    </tr>\n",
       "    <tr>\n",
       "      <th>2</th>\n",
       "      <td>India</td>\n",
       "      <td>3.0</td>\n",
       "      <td>0.74</td>\n",
       "      <td>0.5</td>\n",
       "      <td>3,287,263</td>\n",
       "      <td>6,433</td>\n",
       "      <td>$2,836</td>\n",
       "      <td>1,389,637,446</td>\n",
       "      <td>$8,812</td>\n",
       "    </tr>\n",
       "    <tr>\n",
       "      <th>3</th>\n",
       "      <td>Indonesia</td>\n",
       "      <td>2.9</td>\n",
       "      <td>0.62</td>\n",
       "      <td>1.0</td>\n",
       "      <td>1,904,569</td>\n",
       "      <td>11,533</td>\n",
       "      <td>$1,120</td>\n",
       "      <td>277,329,163</td>\n",
       "      <td>$3,175</td>\n",
       "    </tr>\n",
       "    <tr>\n",
       "      <th>4</th>\n",
       "      <td>Iran</td>\n",
       "      <td>6.7</td>\n",
       "      <td>1.58</td>\n",
       "      <td>1.6</td>\n",
       "      <td>1,648,195</td>\n",
       "      <td>12,767</td>\n",
       "      <td>$581</td>\n",
       "      <td>86,758,304</td>\n",
       "      <td>$1,033</td>\n",
       "    </tr>\n",
       "  </tbody>\n",
       "</table>\n",
       "</div>"
      ],
      "text/plain": [
       "     country  current_health_expenditure_2019  physician  beds  \\\n",
       "0    Austria                             10.4       5.29   7.3   \n",
       "1     Greece                              7.8       6.31   4.2   \n",
       "2      India                              3.0       0.74   0.5   \n",
       "3  Indonesia                              2.9       0.62   1.0   \n",
       "4       Iran                              6.7       1.58   1.6   \n",
       "\n",
       "  geography_area_total_sq_km real_GDP_per _capita_3year_average_2020_2018  \\\n",
       "0                     83,871                                       54,333   \n",
       "1                    131,957                                       28,733   \n",
       "2                  3,287,263                                        6,433   \n",
       "3                  1,904,569                                       11,533   \n",
       "4                  1,648,195                                       12,767   \n",
       "\n",
       "  GDP_official_exchange_rate_Billion     Population  \\\n",
       "0                              $445       8,913,088   \n",
       "1                              $210      10,533,871   \n",
       "2                            $2,836   1,389,637,446   \n",
       "3                            $1,120     277,329,163   \n",
       "4                              $581      86,758,304   \n",
       "\n",
       "  Real_GDP_purchasing_power_parity_3year_ave  \n",
       "0                                      $483   \n",
       "1                                      $308   \n",
       "2                                    $8,812   \n",
       "3                                    $3,175   \n",
       "4                                    $1,033   "
      ]
     },
     "execution_count": 7,
     "metadata": {},
     "output_type": "execute_result"
    }
   ],
   "source": [
    "ciadf.head()"
   ]
  },
  {
   "cell_type": "code",
   "execution_count": null,
   "id": "638a6c15",
   "metadata": {},
   "outputs": [],
   "source": []
  },
  {
   "cell_type": "code",
   "execution_count": null,
   "id": "d6ad27db",
   "metadata": {},
   "outputs": [],
   "source": []
  },
  {
   "cell_type": "code",
   "execution_count": null,
   "id": "5261a09b",
   "metadata": {},
   "outputs": [],
   "source": []
  },
  {
   "cell_type": "code",
   "execution_count": null,
   "id": "d77baf55",
   "metadata": {},
   "outputs": [],
   "source": []
  },
  {
   "cell_type": "code",
   "execution_count": null,
   "id": "219d44cd",
   "metadata": {},
   "outputs": [],
   "source": []
  },
  {
   "cell_type": "code",
   "execution_count": null,
   "id": "d0dab230",
   "metadata": {},
   "outputs": [],
   "source": []
  },
  {
   "cell_type": "code",
   "execution_count": null,
   "id": "f3286357",
   "metadata": {},
   "outputs": [],
   "source": []
  },
  {
   "cell_type": "code",
   "execution_count": null,
   "id": "bb7e2db6",
   "metadata": {},
   "outputs": [],
   "source": []
  },
  {
   "cell_type": "code",
   "execution_count": null,
   "id": "fa451ab0",
   "metadata": {},
   "outputs": [],
   "source": []
  },
  {
   "cell_type": "code",
   "execution_count": null,
   "id": "504d858d",
   "metadata": {},
   "outputs": [],
   "source": []
  },
  {
   "cell_type": "code",
   "execution_count": null,
   "id": "2a3318a6",
   "metadata": {},
   "outputs": [],
   "source": []
  },
  {
   "cell_type": "code",
   "execution_count": null,
   "id": "5a92b380",
   "metadata": {},
   "outputs": [],
   "source": []
  },
  {
   "cell_type": "code",
   "execution_count": null,
   "id": "5a02475b",
   "metadata": {},
   "outputs": [],
   "source": []
  },
  {
   "cell_type": "code",
   "execution_count": null,
   "id": "ee05b00e",
   "metadata": {},
   "outputs": [],
   "source": []
  },
  {
   "cell_type": "code",
   "execution_count": null,
   "id": "b7e33c78",
   "metadata": {},
   "outputs": [],
   "source": []
  },
  {
   "cell_type": "code",
   "execution_count": null,
   "id": "323e0a26",
   "metadata": {},
   "outputs": [],
   "source": []
  },
  {
   "cell_type": "code",
   "execution_count": null,
   "id": "d0f5e57d",
   "metadata": {},
   "outputs": [],
   "source": []
  },
  {
   "cell_type": "code",
   "execution_count": null,
   "id": "87410747",
   "metadata": {},
   "outputs": [],
   "source": []
  }
 ],
 "metadata": {
  "kernelspec": {
   "display_name": "Python 3 (ipykernel)",
   "language": "python",
   "name": "python3"
  },
  "language_info": {
   "codemirror_mode": {
    "name": "ipython",
    "version": 3
   },
   "file_extension": ".py",
   "mimetype": "text/x-python",
   "name": "python",
   "nbconvert_exporter": "python",
   "pygments_lexer": "ipython3",
   "version": "3.9.12"
  }
 },
 "nbformat": 4,
 "nbformat_minor": 5
}
